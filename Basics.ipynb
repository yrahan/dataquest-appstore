{
 "cells": [
  {
   "cell_type": "markdown",
   "metadata": {},
   "source": [
    "# Guided project: Apps Store database."
   ]
  },
  {
   "cell_type": "markdown",
   "metadata": {},
   "source": [
    "Our aim is to help our developers understand what type of apps are likely to attract more users on Google Play and the App Store. "
   ]
  },
  {
   "cell_type": "markdown",
   "metadata": {},
   "source": [
    "Collecting data for over 4 million apps requires a significant amount of time and money, so we'll try to analyze a sample of the data instead. To avoid spending resources on collecting new data ourselves, we should first try to see if we can find any relevant existing data at no cost. Luckily, here are two data sets that seem suitable for our goals:"
   ]
  },
  {
   "cell_type": "markdown",
   "metadata": {},
   "source": [
    "- [A dataset](https://www.kaggle.com/lava18/google-play-store-apps) containing data about approximately 10,000 Android apps from Google Play; the data was collected in August 2018. You can download the data set directly from [this link](https://dq-content.s3.amazonaws.com/350/googleplaystore.csv).\n",
    "- [A dataset](https://www.kaggle.com/ramamet4/app-store-apple-data-set-10k-apps) containing data about approximately 7,000 iOS apps from the App Store; the data was collected in July 2017. You can download the data set directly from [this link](https://dq-content.s3.amazonaws.com/350/AppleStore.csv)."
   ]
  },
  {
   "cell_type": "markdown",
   "metadata": {},
   "source": [
    "## Explore datasets"
   ]
  },
  {
   "cell_type": "code",
   "execution_count": 1,
   "metadata": {},
   "outputs": [],
   "source": [
    "def explore_data(dataset, start, end, rows_and_columns=False):\n",
    "    dataset_slice = dataset[start:end]    \n",
    "    for row in dataset_slice:\n",
    "        print(row)\n",
    "        print('\\n') # adds a new (empty) line after each row\n",
    "\n",
    "    if rows_and_columns:\n",
    "        print('Number of rows:', len(dataset))\n",
    "        print('Number of columns:', len(dataset[0]))"
   ]
  },
  {
   "cell_type": "code",
   "execution_count": 2,
   "metadata": {},
   "outputs": [],
   "source": [
    "# Due to some setup constraints,\n",
    "# reading the csv file directly from url instead of downloading the csv file\n",
    "from urllib.request import urlopen\n",
    "from io import StringIO\n",
    "import csv"
   ]
  },
  {
   "cell_type": "code",
   "execution_count": 3,
   "metadata": {},
   "outputs": [],
   "source": [
    "android_link = \"https://dq-content.s3.amazonaws.com/350/googleplaystore.csv\"\n",
    "ios_link = \"https://dq-content.s3.amazonaws.com/350/AppleStore.csv\""
   ]
  },
  {
   "cell_type": "code",
   "execution_count": 4,
   "metadata": {},
   "outputs": [],
   "source": [
    "android_data = urlopen(android_link).read().decode('utf8','ignore')\n",
    "andoid_file = StringIO(android_data)\n",
    "# turning the result into a list \n",
    "# to be able to use the explore_data function provided\n",
    "android_csv = list(csv.reader(andoid_file))"
   ]
  },
  {
   "cell_type": "code",
   "execution_count": 5,
   "metadata": {},
   "outputs": [],
   "source": [
    "ios_data = urlopen(ios_link).read().decode('utf8','ignore')\n",
    "ios_file = StringIO(ios_data)\n",
    "# turning the result into a list \n",
    "# to be able to use the explore_data function provided\n",
    "ios_csv = list(csv.reader(ios_file))\n"
   ]
  },
  {
   "cell_type": "code",
   "execution_count": 6,
   "metadata": {},
   "outputs": [
    {
     "name": "stdout",
     "output_type": "stream",
     "text": [
      "<class 'list'>\n",
      "['App', 'Category', 'Rating', 'Reviews', 'Size', 'Installs', 'Type', 'Price', 'Content Rating', 'Genres', 'Last Updated', 'Current Ver', 'Android Ver']\n",
      "\n",
      "\n",
      "['Photo Editor & Candy Camera & Grid & ScrapBook', 'ART_AND_DESIGN', '4.1', '159', '19M', '10,000+', 'Free', '0', 'Everyone', 'Art & Design', 'January 7, 2018', '1.0.0', '4.0.3 and up']\n",
      "\n",
      "\n",
      "<class 'list'>\n",
      "['id', 'track_name', 'size_bytes', 'currency', 'price', 'rating_count_tot', 'rating_count_ver', 'user_rating', 'user_rating_ver', 'ver', 'cont_rating', 'prime_genre', 'sup_devices.num', 'ipadSc_urls.num', 'lang.num', 'vpp_lic']\n",
      "\n",
      "\n",
      "['284882215', 'Facebook', '389879808', 'USD', '0.0', '2974676', '212', '3.5', '3.5', '95.0', '4+', 'Social Networking', '37', '1', '29', '1']\n",
      "\n",
      "\n"
     ]
    }
   ],
   "source": [
    "print(type(android_csv))\n",
    "print(android_csv[0])\n",
    "print('\\n')\n",
    "print(android_csv[1])\n",
    "print('\\n')\n",
    "    \n",
    "print(type(ios_csv))\n",
    "print(ios_csv[0])\n",
    "print('\\n')\n",
    "print(ios_csv[1])\n",
    "print('\\n')\n",
    "    "
   ]
  },
  {
   "cell_type": "code",
   "execution_count": 7,
   "metadata": {},
   "outputs": [
    {
     "name": "stdout",
     "output_type": "stream",
     "text": [
      "['App', 'Category', 'Rating', 'Reviews', 'Size', 'Installs', 'Type', 'Price', 'Content Rating', 'Genres', 'Last Updated', 'Current Ver', 'Android Ver']\n",
      "\n",
      "\n",
      "['Photo Editor & Candy Camera & Grid & ScrapBook', 'ART_AND_DESIGN', '4.1', '159', '19M', '10,000+', 'Free', '0', 'Everyone', 'Art & Design', 'January 7, 2018', '1.0.0', '4.0.3 and up']\n",
      "\n",
      "\n",
      "['Coloring book moana', 'ART_AND_DESIGN', '3.9', '967', '14M', '500,000+', 'Free', '0', 'Everyone', 'Art & Design;Pretend Play', 'January 15, 2018', '2.0.0', '4.0.3 and up']\n",
      "\n",
      "\n",
      "['U Launcher Lite – FREE Live Cool Themes, Hide Apps', 'ART_AND_DESIGN', '4.7', '87510', '8.7M', '5,000,000+', 'Free', '0', 'Everyone', 'Art & Design', 'August 1, 2018', '1.2.4', '4.0.3 and up']\n",
      "\n",
      "\n",
      "['Sketch - Draw & Paint', 'ART_AND_DESIGN', '4.5', '215644', '25M', '50,000,000+', 'Free', '0', 'Teen', 'Art & Design', 'June 8, 2018', 'Varies with device', '4.2 and up']\n",
      "\n",
      "\n",
      "Number of rows: 10842\n",
      "Number of columns: 13\n"
     ]
    }
   ],
   "source": [
    "explore_data(android_csv, 0, 5, True)"
   ]
  },
  {
   "cell_type": "code",
   "execution_count": 8,
   "metadata": {},
   "outputs": [
    {
     "name": "stdout",
     "output_type": "stream",
     "text": [
      "['id', 'track_name', 'size_bytes', 'currency', 'price', 'rating_count_tot', 'rating_count_ver', 'user_rating', 'user_rating_ver', 'ver', 'cont_rating', 'prime_genre', 'sup_devices.num', 'ipadSc_urls.num', 'lang.num', 'vpp_lic']\n",
      "\n",
      "\n",
      "['284882215', 'Facebook', '389879808', 'USD', '0.0', '2974676', '212', '3.5', '3.5', '95.0', '4+', 'Social Networking', '37', '1', '29', '1']\n",
      "\n",
      "\n",
      "['389801252', 'Instagram', '113954816', 'USD', '0.0', '2161558', '1289', '4.5', '4.0', '10.23', '12+', 'Photo & Video', '37', '0', '29', '1']\n",
      "\n",
      "\n",
      "['529479190', 'Clash of Clans', '116476928', 'USD', '0.0', '2130805', '579', '4.5', '4.5', '9.24.12', '9+', 'Games', '38', '5', '18', '1']\n",
      "\n",
      "\n",
      "['420009108', 'Temple Run', '65921024', 'USD', '0.0', '1724546', '3842', '4.5', '4.0', '1.6.2', '9+', 'Games', '40', '5', '1', '1']\n",
      "\n",
      "\n",
      "Number of rows: 7198\n",
      "Number of columns: 16\n"
     ]
    }
   ],
   "source": [
    "explore_data(ios_csv, 0, 5, True)"
   ]
  },
  {
   "cell_type": "markdown",
   "metadata": {},
   "source": [
    "## Data cleaning"
   ]
  },
  {
   "cell_type": "markdown",
   "metadata": {},
   "source": [
    "In the previous step, we opened the two data sets and explored the data. Before beginning our analysis, we need to make sure the data we analyze is accurate, or the results of our analysis will be wrong. This means that we need to do the following:\n",
    "\n",
    "- Detect inaccurate data, and correct or remove it.\n",
    "- Detect duplicate data, and remove the duplicates."
   ]
  },
  {
   "cell_type": "markdown",
   "metadata": {},
   "source": [
    "Recall that at our company, we only build apps that are free to download and install, and we design them for an English-speaking audience. This means that we'll need to do the following:\n",
    "\n",
    "- Remove non-English apps like 爱奇艺PPS -《欢乐颂2》电视剧热播.\n",
    "- Remove apps that aren't free."
   ]
  },
  {
   "cell_type": "markdown",
   "metadata": {},
   "source": [
    "### Detect and remove entrie with an error"
   ]
  },
  {
   "cell_type": "markdown",
   "metadata": {},
   "source": [
    "First, there is a row having an error determined from the classeroom discussion."
   ]
  },
  {
   "cell_type": "code",
   "execution_count": 9,
   "metadata": {},
   "outputs": [
    {
     "name": "stdout",
     "output_type": "stream",
     "text": [
      "['Life Made WI-Fi Touchscreen Photo Frame', '1.9', '19', '3.0M', '1,000+', 'Free', '0', 'Everyone', '', 'February 11, 2018', '1.0.19', '4.0 and up']\n",
      "\n",
      "\n",
      "['osmino Wi-Fi: free WiFi', 'TOOLS', '4.2', '134203', '4.1M', '10,000,000+', 'Free', '0', 'Everyone', 'Tools', 'August 7, 2018', '6.06.14', '4.4 and up']\n",
      "\n",
      "\n",
      "Number of rows: 10842\n",
      "Number of columns: 13\n"
     ]
    }
   ],
   "source": [
    "explore_data(android_csv, 10473 , 10475 , True)"
   ]
  },
  {
   "cell_type": "code",
   "execution_count": 10,
   "metadata": {},
   "outputs": [
    {
     "name": "stdout",
     "output_type": "stream",
     "text": [
      "10472 Xposed Wi-Fi-Pwd 13\n",
      "10473 Life Made WI-Fi Touchscreen Photo Frame 12\n",
      "10474 osmino Wi-Fi: free WiFi 13\n"
     ]
    }
   ],
   "source": [
    "for i in range(10472,10475):\n",
    "    print(i , android_csv[i][0], len(android_csv[i]))"
   ]
  },
  {
   "cell_type": "markdown",
   "metadata": {},
   "source": [
    "The \"Life Made WI-Fi Touchscreen Photo Frame\" recorded data are missing some information. We should delete this row."
   ]
  },
  {
   "cell_type": "code",
   "execution_count": 11,
   "metadata": {},
   "outputs": [],
   "source": [
    "del android_csv[10473]"
   ]
  },
  {
   "cell_type": "code",
   "execution_count": 12,
   "metadata": {},
   "outputs": [
    {
     "name": "stdout",
     "output_type": "stream",
     "text": [
      "10472 Xposed Wi-Fi-Pwd 13\n",
      "10473 osmino Wi-Fi: free WiFi 13\n",
      "10474 Sat-Fi Voice 13\n"
     ]
    }
   ],
   "source": [
    "for i in range(10472,10475):\n",
    "    print(i , android_csv[i][0], len(android_csv[i]))"
   ]
  },
  {
   "cell_type": "markdown",
   "metadata": {},
   "source": [
    "It's done."
   ]
  },
  {
   "cell_type": "markdown",
   "metadata": {},
   "source": [
    "### Detect and remove duplicates"
   ]
  },
  {
   "cell_type": "code",
   "execution_count": 13,
   "metadata": {},
   "outputs": [
    {
     "name": "stdout",
     "output_type": "stream",
     "text": [
      "['Instagram', 'SOCIAL', '4.5', '66577313', 'Varies with device', '1,000,000,000+', 'Free', '0', 'Teen', 'Social', 'July 31, 2018', 'Varies with device', 'Varies with device']\n",
      "['Instagram', 'SOCIAL', '4.5', '66577446', 'Varies with device', '1,000,000,000+', 'Free', '0', 'Teen', 'Social', 'July 31, 2018', 'Varies with device', 'Varies with device']\n",
      "['Instagram', 'SOCIAL', '4.5', '66577313', 'Varies with device', '1,000,000,000+', 'Free', '0', 'Teen', 'Social', 'July 31, 2018', 'Varies with device', 'Varies with device']\n",
      "['Instagram', 'SOCIAL', '4.5', '66509917', 'Varies with device', '1,000,000,000+', 'Free', '0', 'Teen', 'Social', 'July 31, 2018', 'Varies with device', 'Varies with device']\n"
     ]
    }
   ],
   "source": [
    "for app in android_csv:\n",
    "    name = app[0]\n",
    "    if name == 'Instagram':\n",
    "        print(app)"
   ]
  },
  {
   "cell_type": "markdown",
   "metadata": {},
   "source": [
    "We can use this information to build a criterion for removing the duplicates. The higher the number of reviews, the more recent the data should be. Rather than removing duplicates randomly, we'll only keep the row with the highest number of reviews and remove the other entries for any given app."
   ]
  },
  {
   "cell_type": "markdown",
   "metadata": {},
   "source": [
    "Another criterion to remove duplicates can be the number of installs. But we'll stick with the number of reviews."
   ]
  },
  {
   "cell_type": "markdown",
   "metadata": {},
   "source": [
    "In total, there are 1,181 cases where an app occurs more than once."
   ]
  },
  {
   "cell_type": "code",
   "execution_count": 14,
   "metadata": {},
   "outputs": [
    {
     "data": {
      "text/plain": [
       "10841"
      ]
     },
     "execution_count": 14,
     "metadata": {},
     "output_type": "execute_result"
    }
   ],
   "source": [
    "len(android_csv)"
   ]
  },
  {
   "cell_type": "code",
   "execution_count": 15,
   "metadata": {},
   "outputs": [
    {
     "name": "stdout",
     "output_type": "stream",
     "text": [
      "Number of duplicate apps:  1181\n",
      "Percentage of duplicate apps:  11%\n",
      "\n",
      "\n",
      "Examples of duplicate apps:  ['Quick PDF Scanner + OCR FREE', 'Box', 'Google My Business', 'ZOOM Cloud Meetings', 'join.me - Simple Meetings', 'Box', 'Zenefits', 'Google Ads', 'Google My Business', 'Slack', 'FreshBooks Classic', 'Insightly CRM', 'QuickBooks Accounting: Invoicing & Expenses', 'HipChat - Chat Built for Teams', 'Xero Accounting Software']\n"
     ]
    }
   ],
   "source": [
    "duplicate_apps = []\n",
    "unique_apps = []\n",
    "for app in android_csv:\n",
    "    name = app[0]\n",
    "    if name in unique_apps:\n",
    "        duplicate_apps.append(name)\n",
    "    else:\n",
    "        unique_apps.append(name)\n",
    "        \n",
    "print('Number of duplicate apps: ', len(duplicate_apps))      \n",
    "print('Percentage of duplicate apps: ',f\"{len(duplicate_apps)/len(android_csv):.0%}\")\n",
    "print('\\n')\n",
    "print('Examples of duplicate apps: ', duplicate_apps[:15])       \n",
    "            "
   ]
  },
  {
   "cell_type": "markdown",
   "metadata": {},
   "source": [
    "To remove the duplicates, we will do the following:\n",
    "\n",
    "- Create a dictionary, where each dictionary key is a unique app name and the corresponding dictionary value is the highest number of reviews of that app.\n",
    "- Use the information stored in the dictionary and create a new dataset, which will have only one entry per app (and for each app, we'll only select the entry with the highest number of reviews)."
   ]
  },
  {
   "cell_type": "code",
   "execution_count": 16,
   "metadata": {},
   "outputs": [
    {
     "data": {
      "text/plain": [
       "['App',\n",
       " 'Category',\n",
       " 'Rating',\n",
       " 'Reviews',\n",
       " 'Size',\n",
       " 'Installs',\n",
       " 'Type',\n",
       " 'Price',\n",
       " 'Content Rating',\n",
       " 'Genres',\n",
       " 'Last Updated',\n",
       " 'Current Ver',\n",
       " 'Android Ver']"
      ]
     },
     "execution_count": 16,
     "metadata": {},
     "output_type": "execute_result"
    }
   ],
   "source": [
    "android_csv[0]"
   ]
  },
  {
   "cell_type": "code",
   "execution_count": 17,
   "metadata": {},
   "outputs": [
    {
     "data": {
      "text/plain": [
       "3"
      ]
     },
     "execution_count": 17,
     "metadata": {},
     "output_type": "execute_result"
    }
   ],
   "source": [
    "android_csv[0].index(\"Reviews\")"
   ]
  },
  {
   "cell_type": "code",
   "execution_count": 18,
   "metadata": {},
   "outputs": [],
   "source": [
    "reviews_max = {}\n",
    "\n",
    "for app in android_csv[1:]:\n",
    "    name, n_reviews = app[0],float(app[3]) \n",
    "    if name in reviews_max:\n",
    "        reviews_max[name] = max(n_reviews, reviews_max[name]) \n",
    "    else:\n",
    "        reviews_max[name] = n_reviews\n",
    "            \n",
    "    "
   ]
  },
  {
   "cell_type": "markdown",
   "metadata": {},
   "source": [
    "Let's check wih Instagram."
   ]
  },
  {
   "cell_type": "code",
   "execution_count": 19,
   "metadata": {},
   "outputs": [
    {
     "name": "stdout",
     "output_type": "stream",
     "text": [
      "Instagram 66577313\n",
      "Instagram 66577446\n",
      "Instagram 66577313\n",
      "Instagram 66509917\n",
      "Highest Intagram Entry review:  66577446\n"
     ]
    }
   ],
   "source": [
    "instagram_review_entries = []\n",
    "for app in android_csv[1:]:\n",
    "    name = app[0]    \n",
    "    if name == 'Instagram':\n",
    "        print(app[0],app[3])\n",
    "        instagram_review_entries.append(app[3])\n",
    "        \n",
    "print('Highest Intagram Entry review: ', max(instagram_review_entries))        \n",
    "        "
   ]
  },
  {
   "cell_type": "code",
   "execution_count": 25,
   "metadata": {},
   "outputs": [
    {
     "name": "stdout",
     "output_type": "stream",
     "text": [
      "66577446.0\n"
     ]
    }
   ],
   "source": [
    "print(reviews_max['Instagram'])"
   ]
  },
  {
   "cell_type": "code",
   "execution_count": 24,
   "metadata": {},
   "outputs": [
    {
     "data": {
      "text/plain": [
       "9659"
      ]
     },
     "execution_count": 24,
     "metadata": {},
     "output_type": "execute_result"
    }
   ],
   "source": [
    "len(reviews_max)"
   ]
  },
  {
   "cell_type": "code",
   "execution_count": 62,
   "metadata": {},
   "outputs": [],
   "source": [
    "android_clean = []\n",
    "# we use already_added to deal with apps having multiple entries\n",
    "# with the highest number of ratings\n",
    "already_added = []\n",
    "i=0\n",
    "for row in android_csv[1:]:\n",
    "    \n",
    "    name, review = row[0], float(row[3])\n",
    "    \n",
    "    if (reviews_max[name] == review) and (name not in already_added):\n",
    "        android_clean.append(row)\n",
    "        already_added.append(name)\n",
    "\n",
    "    "
   ]
  },
  {
   "cell_type": "markdown",
   "metadata": {},
   "source": [
    "The without duplicates android_clean dataset should have 9,659 rows. "
   ]
  },
  {
   "cell_type": "code",
   "execution_count": 64,
   "metadata": {},
   "outputs": [
    {
     "data": {
      "text/plain": [
       "9659"
      ]
     },
     "execution_count": 64,
     "metadata": {},
     "output_type": "execute_result"
    }
   ],
   "source": [
    "len(android_clean)"
   ]
  },
  {
   "cell_type": "markdown",
   "metadata": {},
   "source": [
    "### Determine the English-speaking perimeter"
   ]
  },
  {
   "cell_type": "markdown",
   "metadata": {},
   "source": [
    "We use English for the apps we develop at our company, and we'd like to analyze only the apps that are designed for an English-speaking audience. "
   ]
  },
  {
   "cell_type": "markdown",
   "metadata": {},
   "source": [
    " One way to do this is to remove each app with a name containing a symbol that isn't commonly used in English text — English text usually includes letters from the English alphabet, numbers composed of digits from 0 to 9, punctuation marks (., !, ?, ;), and other symbols (+, *, /).\n",
    "\n",
    "Each character we use in a string has a corresponding number associated with it. For instance, the corresponding number for character 'a' is 97, character 'A' is 65, and character '爱' is 29,233. We can get the corresponding number of each character using the ord() built-in function."
   ]
  },
  {
   "cell_type": "code",
   "execution_count": 70,
   "metadata": {},
   "outputs": [],
   "source": [
    "def is_english_string(string):\n",
    "    for character in string:\n",
    "        if ord(character) > 127:\n",
    "            return False\n",
    "    return True\n",
    "        "
   ]
  },
  {
   "cell_type": "code",
   "execution_count": 72,
   "metadata": {},
   "outputs": [
    {
     "name": "stdout",
     "output_type": "stream",
     "text": [
      "Instagram True\n",
      "爱奇艺PPS -《欢乐颂2》电视剧热播 False\n",
      "Docs To Go™ Free Office Suite False\n",
      "Instachat 😜 False\n"
     ]
    }
   ],
   "source": [
    "test_list = ['Instagram','爱奇艺PPS -《欢乐颂2》电视剧热播',\n",
    "             'Docs To Go™ Free Office Suite','Instachat 😜']\n",
    "\n",
    "for name in test_list:\n",
    "    print(name,is_english_string(name))\n",
    "    #print('\\n')"
   ]
  },
  {
   "cell_type": "markdown",
   "metadata": {},
   "source": [
    " we wrote a function that detects non-English app names, but we saw that the function couldn't correctly identify certain English app names like 'Docs To Go™ Free Office Suite' and 'Instachat 😜'. This is because emojis and characters like ™ fall outside the ASCII range and have corresponding numbers over 127."
   ]
  },
  {
   "cell_type": "markdown",
   "metadata": {},
   "source": [
    "If we're going to use the function we've created, we'll lose useful data since many English apps will be incorrectly labeled as non-English. To minimize the impact of data loss, we'll only remove an app if its name has more than three characters with corresponding numbers falling outside the ASCII range. This means all English apps with up to three emoji or other special characters will still be labeled as English. Our filter function is still not perfect, but it should be fairly effective."
   ]
  },
  {
   "cell_type": "code",
   "execution_count": 74,
   "metadata": {},
   "outputs": [],
   "source": [
    "def is_english_string(string):\n",
    "    non_english_characters = []\n",
    "    for character in string:\n",
    "        if ord(character) > 127:\n",
    "            non_english_characters.append(character)\n",
    "            if len(non_english_characters) > 3:\n",
    "                return False\n",
    "    return True"
   ]
  },
  {
   "cell_type": "code",
   "execution_count": 77,
   "metadata": {},
   "outputs": [
    {
     "name": "stdout",
     "output_type": "stream",
     "text": [
      "Docs To Go™ Free Office Suite True\n",
      "Instachat 😜 True\n",
      "爱奇艺PPS -《欢乐颂2》电视剧热播 False\n"
     ]
    }
   ],
   "source": [
    "test_list=['Docs To Go™ Free Office Suite','Instachat 😜',\n",
    "           '爱奇艺PPS -《欢乐颂2》电视剧热播']\n",
    "for name in test_list:\n",
    "    print(name,is_english_string(name))\n",
    "    #print('\\n')"
   ]
  },
  {
   "cell_type": "code",
   "execution_count": 88,
   "metadata": {},
   "outputs": [],
   "source": [
    "def get_english_apps(apps, name_index):\n",
    "    english_apps = []\n",
    "    for row in apps:\n",
    "        if is_english_string(row[name_index]):\n",
    "            english_apps.append(row)\n",
    "    return english_apps\n"
   ]
  },
  {
   "cell_type": "code",
   "execution_count": 89,
   "metadata": {},
   "outputs": [],
   "source": [
    "android_english = get_english_apps(android_clean,0)\n",
    "ios_english = get_english_apps(ios_csv[1:],1)\n"
   ]
  },
  {
   "cell_type": "code",
   "execution_count": 90,
   "metadata": {},
   "outputs": [
    {
     "name": "stdout",
     "output_type": "stream",
     "text": [
      "9659 9614\n"
     ]
    }
   ],
   "source": [
    "print(len(android_clean),len(android_english))"
   ]
  },
  {
   "cell_type": "code",
   "execution_count": 91,
   "metadata": {},
   "outputs": [
    {
     "name": "stdout",
     "output_type": "stream",
     "text": [
      "7197 6183\n"
     ]
    }
   ],
   "source": [
    "print(len(ios_csv[1:]),len(ios_english))"
   ]
  },
  {
   "cell_type": "markdown",
   "metadata": {},
   "source": [
    "### Isolating the free apps"
   ]
  },
  {
   "cell_type": "markdown",
   "metadata": {},
   "source": [
    "So far in the data cleaning process, we've done the following:\n",
    "\n",
    "- Removed inaccurate data\n",
    "- Removed duplicate app entries\n",
    "- Removed non-English apps\n",
    "\n",
    "As we mentioned in the introduction, we only build apps that are free to download and install, and our main source of revenue consists of in-app ads. Our datasets contain both free and non-free apps; we'll need to isolate only the free apps for our analysis."
   ]
  },
  {
   "cell_type": "code",
   "execution_count": 94,
   "metadata": {},
   "outputs": [
    {
     "data": {
      "text/plain": [
       "'Price'"
      ]
     },
     "execution_count": 94,
     "metadata": {},
     "output_type": "execute_result"
    }
   ],
   "source": [
    "# the price is in the 7th comumn for android apps\n",
    "android_csv[0][7]"
   ]
  },
  {
   "cell_type": "code",
   "execution_count": 128,
   "metadata": {},
   "outputs": [
    {
     "data": {
      "text/plain": [
       "['$0.99',\n",
       " '$1.00',\n",
       " '$1.04',\n",
       " '$1.20',\n",
       " '$1.26',\n",
       " '$1.29',\n",
       " '$1.49',\n",
       " '$1.50',\n",
       " '$1.59',\n",
       " '$1.61',\n",
       " '$1.70',\n",
       " '$1.75',\n",
       " '$1.76',\n",
       " '$1.96',\n",
       " '$1.97',\n",
       " '$1.99',\n",
       " '$10.00',\n",
       " '$10.99',\n",
       " '$109.99',\n",
       " '$11.99',\n",
       " '$12.99',\n",
       " '$13.99',\n",
       " '$14.00',\n",
       " '$14.99',\n",
       " '$15.46',\n",
       " '$15.99',\n",
       " '$154.99',\n",
       " '$16.99',\n",
       " '$17.99',\n",
       " '$18.99',\n",
       " '$19.40',\n",
       " '$19.90',\n",
       " '$19.99',\n",
       " '$2.00',\n",
       " '$2.49',\n",
       " '$2.50',\n",
       " '$2.56',\n",
       " '$2.59',\n",
       " '$2.60',\n",
       " '$2.90',\n",
       " '$2.95',\n",
       " '$2.99',\n",
       " '$200.00',\n",
       " '$24.99',\n",
       " '$25.99',\n",
       " '$28.99',\n",
       " '$29.99',\n",
       " '$299.99',\n",
       " '$3.02',\n",
       " '$3.04',\n",
       " '$3.08',\n",
       " '$3.28',\n",
       " '$3.49',\n",
       " '$3.61',\n",
       " '$3.88',\n",
       " '$3.90',\n",
       " '$3.95',\n",
       " '$3.99',\n",
       " '$30.99',\n",
       " '$33.99',\n",
       " '$37.99',\n",
       " '$379.99',\n",
       " '$389.99',\n",
       " '$39.99',\n",
       " '$394.99',\n",
       " '$399.99',\n",
       " '$4.29',\n",
       " '$4.49',\n",
       " '$4.59',\n",
       " '$4.60',\n",
       " '$4.77',\n",
       " '$4.80',\n",
       " '$4.84',\n",
       " '$4.85',\n",
       " '$4.99',\n",
       " '$400.00',\n",
       " '$46.99',\n",
       " '$5.00',\n",
       " '$5.49',\n",
       " '$5.99',\n",
       " '$6.49',\n",
       " '$6.99',\n",
       " '$7.49',\n",
       " '$7.99',\n",
       " '$74.99',\n",
       " '$79.99',\n",
       " '$8.49',\n",
       " '$8.99',\n",
       " '$89.99',\n",
       " '$9.00',\n",
       " '$9.99',\n",
       " '0']"
      ]
     },
     "execution_count": 128,
     "metadata": {},
     "output_type": "execute_result"
    }
   ],
   "source": [
    "# display all price values\n",
    "sorted(set([row[7] for row in android_english]))"
   ]
  },
  {
   "cell_type": "markdown",
   "metadata": {},
   "source": [
    "Free android apps have as price the string '0'."
   ]
  },
  {
   "cell_type": "markdown",
   "metadata": {},
   "source": [
    "Let's do the same for ios apps."
   ]
  },
  {
   "cell_type": "code",
   "execution_count": 115,
   "metadata": {},
   "outputs": [
    {
     "data": {
      "text/plain": [
       "'price'"
      ]
     },
     "execution_count": 115,
     "metadata": {},
     "output_type": "execute_result"
    }
   ],
   "source": [
    "ios_csv[0][4]"
   ]
  },
  {
   "cell_type": "code",
   "execution_count": 129,
   "metadata": {},
   "outputs": [
    {
     "data": {
      "text/plain": [
       "['0.0',\n",
       " '0.99',\n",
       " '1.99',\n",
       " '11.99',\n",
       " '12.99',\n",
       " '13.99',\n",
       " '14.99',\n",
       " '15.99',\n",
       " '16.99',\n",
       " '17.99',\n",
       " '18.99',\n",
       " '19.99',\n",
       " '2.99',\n",
       " '20.99',\n",
       " '21.99',\n",
       " '22.99',\n",
       " '23.99',\n",
       " '24.99',\n",
       " '249.99',\n",
       " '27.99',\n",
       " '29.99',\n",
       " '299.99',\n",
       " '3.99',\n",
       " '34.99',\n",
       " '39.99',\n",
       " '4.99',\n",
       " '47.99',\n",
       " '49.99',\n",
       " '5.99',\n",
       " '59.99',\n",
       " '6.99',\n",
       " '7.99',\n",
       " '74.99',\n",
       " '8.99',\n",
       " '9.99',\n",
       " '99.99']"
      ]
     },
     "execution_count": 129,
     "metadata": {},
     "output_type": "execute_result"
    }
   ],
   "source": [
    "# display all price values\n",
    "sorted(set([row[4] for row in ios_csv[1:]]))"
   ]
  },
  {
   "cell_type": "code",
   "execution_count": null,
   "metadata": {},
   "outputs": [],
   "source": [
    "Free android apps have as price the string '0.0'."
   ]
  },
  {
   "cell_type": "code",
   "execution_count": null,
   "metadata": {},
   "outputs": [],
   "source": [
    "We are now ready to get our free apps."
   ]
  },
  {
   "cell_type": "code",
   "execution_count": 135,
   "metadata": {},
   "outputs": [],
   "source": [
    "def get_free_apps(apps, price_index, free_price):\n",
    "    free_apps = []    \n",
    "    for row in apps:\n",
    "        price = row[price_index]\n",
    "        if price == free_price:\n",
    "            free_apps.append(row)\n",
    "    return free_apps"
   ]
  },
  {
   "cell_type": "code",
   "execution_count": 136,
   "metadata": {},
   "outputs": [],
   "source": [
    "android_english_free = get_free_apps(android_english,7,'0')\n",
    "ios_english_free = get_free_apps(ios_english,4,'0.0')"
   ]
  },
  {
   "cell_type": "code",
   "execution_count": 137,
   "metadata": {},
   "outputs": [
    {
     "name": "stdout",
     "output_type": "stream",
     "text": [
      "9614 8864\n"
     ]
    }
   ],
   "source": [
    "print(len(android_english),len(android_english_free))"
   ]
  },
  {
   "cell_type": "code",
   "execution_count": 139,
   "metadata": {},
   "outputs": [
    {
     "name": "stdout",
     "output_type": "stream",
     "text": [
      "6183 3222\n"
     ]
    }
   ],
   "source": [
    "print(len(ios_english),len(ios_english_free))"
   ]
  },
  {
   "cell_type": "markdown",
   "metadata": {},
   "source": [
    "## Determine the kinds of apps that are likely to attract more users."
   ]
  },
  {
   "cell_type": "markdown",
   "metadata": {},
   "source": [
    "So far, we've spent a good amount of time cleaning data, including the following:\n",
    "\n",
    "- Removing inaccurate data\n",
    "- Removing duplicate app entries\n",
    "- Removing non-English apps\n",
    "- Isolating the free apps"
   ]
  },
  {
   "cell_type": "markdown",
   "metadata": {},
   "source": [
    "As we mentioned in the introduction, our goal is to determine the kinds of apps that are likely to attract more users because the number of people using our apps affect our revenue.\n",
    "\n",
    "To minimize risks and overhead, our validation strategy for an app idea has three steps:\n",
    "\n",
    "1- Build a minimal Android version of the app, and add it to Google Play.\n",
    "2- If the app has a good response from users, we develop it further.\n",
    "3- If the app is profitable after six months, we build an iOS version of the app and add it to the App Store.\n",
    "\n",
    "Because our end goal is to add the app on both Google Play and the App Store, we need to find app profiles that are successful in both markets. For instance, a profile that works well for both markets might be a productivity app that makes use of gamification.\n",
    "\n",
    "Let's begin the analysis by determining the most common genres for each market. For this, we'll need to build frequency tables for a few columns in our datasets."
   ]
  },
  {
   "cell_type": "code",
   "execution_count": 141,
   "metadata": {},
   "outputs": [
    {
     "name": "stdout",
     "output_type": "stream",
     "text": [
      "['App', 'Category', 'Rating', 'Reviews', 'Size', 'Installs', 'Type', 'Price', 'Content Rating', 'Genres', 'Last Updated', 'Current Ver', 'Android Ver']\n"
     ]
    }
   ],
   "source": [
    "android_headers = android_csv[0]\n",
    "print(android_headers)"
   ]
  },
  {
   "cell_type": "code",
   "execution_count": 143,
   "metadata": {},
   "outputs": [
    {
     "data": {
      "text/plain": [
       "['U Launcher Lite – FREE Live Cool Themes, Hide Apps',\n",
       " 'ART_AND_DESIGN',\n",
       " '4.7',\n",
       " '87510',\n",
       " '8.7M',\n",
       " '5,000,000+',\n",
       " 'Free',\n",
       " '0',\n",
       " 'Everyone',\n",
       " 'Art & Design',\n",
       " 'August 1, 2018',\n",
       " '1.2.4',\n",
       " '4.0.3 and up']"
      ]
     },
     "execution_count": 143,
     "metadata": {},
     "output_type": "execute_result"
    }
   ],
   "source": [
    "android_english_free[1]"
   ]
  },
  {
   "cell_type": "code",
   "execution_count": 142,
   "metadata": {},
   "outputs": [
    {
     "name": "stdout",
     "output_type": "stream",
     "text": [
      "['id', 'track_name', 'size_bytes', 'currency', 'price', 'rating_count_tot', 'rating_count_ver', 'user_rating', 'user_rating_ver', 'ver', 'cont_rating', 'prime_genre', 'sup_devices.num', 'ipadSc_urls.num', 'lang.num', 'vpp_lic']\n"
     ]
    }
   ],
   "source": [
    "ios_headers = ios_csv[0]\n",
    "print(ios_headers)"
   ]
  },
  {
   "cell_type": "code",
   "execution_count": 144,
   "metadata": {},
   "outputs": [
    {
     "data": {
      "text/plain": [
       "['389801252',\n",
       " 'Instagram',\n",
       " '113954816',\n",
       " 'USD',\n",
       " '0.0',\n",
       " '2161558',\n",
       " '1289',\n",
       " '4.5',\n",
       " '4.0',\n",
       " '10.23',\n",
       " '12+',\n",
       " 'Photo & Video',\n",
       " '37',\n",
       " '0',\n",
       " '29',\n",
       " '1']"
      ]
     },
     "execution_count": 144,
     "metadata": {},
     "output_type": "execute_result"
    }
   ],
   "source": [
    "ios_english_free[1]"
   ]
  },
  {
   "cell_type": "markdown",
   "metadata": {},
   "source": [
    "We'll use the columns 'Genres' and 'Category' for android apps and 'prime_genre' for ios apps  to generate frequency tables to determine the most common genres in each market."
   ]
  },
  {
   "cell_type": "code",
   "execution_count": 183,
   "metadata": {},
   "outputs": [
    {
     "data": {
      "text/plain": [
       "9"
      ]
     },
     "execution_count": 183,
     "metadata": {},
     "output_type": "execute_result"
    }
   ],
   "source": [
    "android_index_genre = android_headers.index('Genres')\n",
    "android_index_genre"
   ]
  },
  {
   "cell_type": "code",
   "execution_count": 182,
   "metadata": {},
   "outputs": [
    {
     "data": {
      "text/plain": [
       "1"
      ]
     },
     "execution_count": 182,
     "metadata": {},
     "output_type": "execute_result"
    }
   ],
   "source": [
    "android_index_category = android_headers.index('Category')\n",
    "android_index_category"
   ]
  },
  {
   "cell_type": "code",
   "execution_count": 156,
   "metadata": {},
   "outputs": [
    {
     "data": {
      "text/plain": [
       "11"
      ]
     },
     "execution_count": 156,
     "metadata": {},
     "output_type": "execute_result"
    }
   ],
   "source": [
    "ios_index_genre = ios_headers.index('prime_genre')\n",
    "ios_index_genre"
   ]
  },
  {
   "cell_type": "code",
   "execution_count": 184,
   "metadata": {},
   "outputs": [
    {
     "data": {
      "text/plain": [
       "['ART_AND_DESIGN',\n",
       " 'AUTO_AND_VEHICLES',\n",
       " 'BEAUTY',\n",
       " 'BOOKS_AND_REFERENCE',\n",
       " 'BUSINESS',\n",
       " 'COMICS',\n",
       " 'COMMUNICATION',\n",
       " 'DATING',\n",
       " 'EDUCATION',\n",
       " 'ENTERTAINMENT',\n",
       " 'EVENTS',\n",
       " 'FAMILY',\n",
       " 'FINANCE',\n",
       " 'FOOD_AND_DRINK',\n",
       " 'GAME',\n",
       " 'HEALTH_AND_FITNESS',\n",
       " 'HOUSE_AND_HOME',\n",
       " 'LIBRARIES_AND_DEMO',\n",
       " 'LIFESTYLE',\n",
       " 'MAPS_AND_NAVIGATION',\n",
       " 'MEDICAL',\n",
       " 'NEWS_AND_MAGAZINES',\n",
       " 'PARENTING',\n",
       " 'PERSONALIZATION',\n",
       " 'PHOTOGRAPHY',\n",
       " 'PRODUCTIVITY',\n",
       " 'SHOPPING',\n",
       " 'SOCIAL',\n",
       " 'SPORTS',\n",
       " 'TOOLS',\n",
       " 'TRAVEL_AND_LOCAL',\n",
       " 'VIDEO_PLAYERS',\n",
       " 'WEATHER']"
      ]
     },
     "execution_count": 184,
     "metadata": {},
     "output_type": "execute_result"
    }
   ],
   "source": [
    "# display all android category values\n",
    "sorted(set([row[android_index_category] for row in android_english_free]))"
   ]
  },
  {
   "cell_type": "code",
   "execution_count": 154,
   "metadata": {},
   "outputs": [
    {
     "data": {
      "text/plain": [
       "['Action',\n",
       " 'Action;Action & Adventure',\n",
       " 'Adventure',\n",
       " 'Adventure;Action & Adventure',\n",
       " 'Adventure;Education',\n",
       " 'Arcade',\n",
       " 'Arcade;Action & Adventure',\n",
       " 'Arcade;Pretend Play',\n",
       " 'Art & Design',\n",
       " 'Art & Design;Action & Adventure',\n",
       " 'Art & Design;Creativity',\n",
       " 'Art & Design;Pretend Play',\n",
       " 'Auto & Vehicles',\n",
       " 'Beauty',\n",
       " 'Board',\n",
       " 'Board;Action & Adventure',\n",
       " 'Board;Brain Games',\n",
       " 'Books & Reference',\n",
       " 'Books & Reference;Education',\n",
       " 'Business',\n",
       " 'Card',\n",
       " 'Card;Action & Adventure',\n",
       " 'Casino',\n",
       " 'Casual',\n",
       " 'Casual;Action & Adventure',\n",
       " 'Casual;Brain Games',\n",
       " 'Casual;Creativity',\n",
       " 'Casual;Education',\n",
       " 'Casual;Music & Video',\n",
       " 'Casual;Pretend Play',\n",
       " 'Comics',\n",
       " 'Comics;Creativity',\n",
       " 'Communication',\n",
       " 'Communication;Creativity',\n",
       " 'Dating',\n",
       " 'Education',\n",
       " 'Education;Action & Adventure',\n",
       " 'Education;Brain Games',\n",
       " 'Education;Creativity',\n",
       " 'Education;Education',\n",
       " 'Education;Music & Video',\n",
       " 'Education;Pretend Play',\n",
       " 'Educational',\n",
       " 'Educational;Action & Adventure',\n",
       " 'Educational;Brain Games',\n",
       " 'Educational;Creativity',\n",
       " 'Educational;Education',\n",
       " 'Educational;Pretend Play',\n",
       " 'Entertainment',\n",
       " 'Entertainment;Action & Adventure',\n",
       " 'Entertainment;Brain Games',\n",
       " 'Entertainment;Creativity',\n",
       " 'Entertainment;Education',\n",
       " 'Entertainment;Music & Video',\n",
       " 'Entertainment;Pretend Play',\n",
       " 'Events',\n",
       " 'Finance',\n",
       " 'Food & Drink',\n",
       " 'Health & Fitness',\n",
       " 'Health & Fitness;Action & Adventure',\n",
       " 'Health & Fitness;Education',\n",
       " 'House & Home',\n",
       " 'Libraries & Demo',\n",
       " 'Lifestyle',\n",
       " 'Lifestyle;Education',\n",
       " 'Lifestyle;Pretend Play',\n",
       " 'Maps & Navigation',\n",
       " 'Medical',\n",
       " 'Music',\n",
       " 'Music & Audio;Music & Video',\n",
       " 'Music;Music & Video',\n",
       " 'News & Magazines',\n",
       " 'Parenting',\n",
       " 'Parenting;Brain Games',\n",
       " 'Parenting;Education',\n",
       " 'Parenting;Music & Video',\n",
       " 'Personalization',\n",
       " 'Photography',\n",
       " 'Productivity',\n",
       " 'Puzzle',\n",
       " 'Puzzle;Action & Adventure',\n",
       " 'Puzzle;Brain Games',\n",
       " 'Puzzle;Creativity',\n",
       " 'Puzzle;Education',\n",
       " 'Racing',\n",
       " 'Racing;Action & Adventure',\n",
       " 'Racing;Pretend Play',\n",
       " 'Role Playing',\n",
       " 'Role Playing;Action & Adventure',\n",
       " 'Role Playing;Brain Games',\n",
       " 'Role Playing;Pretend Play',\n",
       " 'Shopping',\n",
       " 'Simulation',\n",
       " 'Simulation;Action & Adventure',\n",
       " 'Simulation;Education',\n",
       " 'Simulation;Pretend Play',\n",
       " 'Social',\n",
       " 'Sports',\n",
       " 'Sports;Action & Adventure',\n",
       " 'Strategy',\n",
       " 'Strategy;Action & Adventure',\n",
       " 'Strategy;Creativity',\n",
       " 'Strategy;Education',\n",
       " 'Tools',\n",
       " 'Tools;Education',\n",
       " 'Travel & Local',\n",
       " 'Travel & Local;Action & Adventure',\n",
       " 'Trivia',\n",
       " 'Trivia;Education',\n",
       " 'Video Players & Editors',\n",
       " 'Video Players & Editors;Creativity',\n",
       " 'Video Players & Editors;Music & Video',\n",
       " 'Weather',\n",
       " 'Word']"
      ]
     },
     "execution_count": 154,
     "metadata": {},
     "output_type": "execute_result"
    }
   ],
   "source": [
    "# display all android genre values\n",
    "sorted(set([row[android_index_genre] for row in android_english_free]))"
   ]
  },
  {
   "cell_type": "code",
   "execution_count": 157,
   "metadata": {},
   "outputs": [
    {
     "data": {
      "text/plain": [
       "['Book',\n",
       " 'Business',\n",
       " 'Catalogs',\n",
       " 'Education',\n",
       " 'Entertainment',\n",
       " 'Finance',\n",
       " 'Food & Drink',\n",
       " 'Games',\n",
       " 'Health & Fitness',\n",
       " 'Lifestyle',\n",
       " 'Medical',\n",
       " 'Music',\n",
       " 'Navigation',\n",
       " 'News',\n",
       " 'Photo & Video',\n",
       " 'Productivity',\n",
       " 'Reference',\n",
       " 'Shopping',\n",
       " 'Social Networking',\n",
       " 'Sports',\n",
       " 'Travel',\n",
       " 'Utilities',\n",
       " 'Weather']"
      ]
     },
     "execution_count": 157,
     "metadata": {},
     "output_type": "execute_result"
    }
   ],
   "source": [
    "# display all ios genre values\n",
    "sorted(set([row[ios_index_genre] for row in ios_english_free]))"
   ]
  },
  {
   "cell_type": "code",
   "execution_count": 174,
   "metadata": {},
   "outputs": [],
   "source": [
    "def freq_table(dataset, index):\n",
    "    frequency_table = {}\n",
    "    for row in dataset:\n",
    "        a_data_point = row[index]\n",
    "        if a_data_point in frequency_table:\n",
    "            frequency_table[a_data_point] += 1\n",
    "        else:        \n",
    "            frequency_table[a_data_point] = 1   \n",
    "    \n",
    "    return {k: v / sum(frequency_table.values()) for k, v in frequency_table.items()}"
   ]
  },
  {
   "cell_type": "code",
   "execution_count": 178,
   "metadata": {},
   "outputs": [],
   "source": [
    "def display_table(dataset, index):\n",
    "    table = freq_table(dataset, index)\n",
    "    table_display = []\n",
    "    for key in table:\n",
    "        key_val_as_tuple = (table[key], key)\n",
    "        table_display.append(key_val_as_tuple)\n",
    "\n",
    "    table_sorted = sorted(table_display, reverse = True)\n",
    "    for entry in table_sorted:\n",
    "        print(entry[1], ':',f\"{entry[0]:.0%}\")"
   ]
  },
  {
   "cell_type": "code",
   "execution_count": 185,
   "metadata": {},
   "outputs": [
    {
     "name": "stdout",
     "output_type": "stream",
     "text": [
      "FAMILY : 19%\n",
      "GAME : 10%\n",
      "TOOLS : 8%\n",
      "BUSINESS : 5%\n",
      "LIFESTYLE : 4%\n",
      "PRODUCTIVITY : 4%\n",
      "FINANCE : 4%\n",
      "MEDICAL : 4%\n",
      "SPORTS : 3%\n",
      "PERSONALIZATION : 3%\n",
      "COMMUNICATION : 3%\n",
      "HEALTH_AND_FITNESS : 3%\n",
      "PHOTOGRAPHY : 3%\n",
      "NEWS_AND_MAGAZINES : 3%\n",
      "SOCIAL : 3%\n",
      "TRAVEL_AND_LOCAL : 2%\n",
      "SHOPPING : 2%\n",
      "BOOKS_AND_REFERENCE : 2%\n",
      "DATING : 2%\n",
      "VIDEO_PLAYERS : 2%\n",
      "MAPS_AND_NAVIGATION : 1%\n",
      "FOOD_AND_DRINK : 1%\n",
      "EDUCATION : 1%\n",
      "ENTERTAINMENT : 1%\n",
      "LIBRARIES_AND_DEMO : 1%\n",
      "AUTO_AND_VEHICLES : 1%\n",
      "HOUSE_AND_HOME : 1%\n",
      "WEATHER : 1%\n",
      "EVENTS : 1%\n",
      "PARENTING : 1%\n",
      "ART_AND_DESIGN : 1%\n",
      "COMICS : 1%\n",
      "BEAUTY : 1%\n"
     ]
    }
   ],
   "source": [
    "display_table(android_english_free, android_index_category)"
   ]
  },
  {
   "cell_type": "code",
   "execution_count": 179,
   "metadata": {},
   "outputs": [
    {
     "name": "stdout",
     "output_type": "stream",
     "text": [
      "Tools : 8%\n",
      "Entertainment : 6%\n",
      "Education : 5%\n",
      "Business : 5%\n",
      "Productivity : 4%\n",
      "Lifestyle : 4%\n",
      "Finance : 4%\n",
      "Medical : 4%\n",
      "Sports : 3%\n",
      "Personalization : 3%\n",
      "Communication : 3%\n",
      "Action : 3%\n",
      "Health & Fitness : 3%\n",
      "Photography : 3%\n",
      "News & Magazines : 3%\n",
      "Social : 3%\n",
      "Travel & Local : 2%\n",
      "Shopping : 2%\n",
      "Books & Reference : 2%\n",
      "Simulation : 2%\n",
      "Dating : 2%\n",
      "Arcade : 2%\n",
      "Video Players & Editors : 2%\n",
      "Casual : 2%\n",
      "Maps & Navigation : 1%\n",
      "Food & Drink : 1%\n",
      "Puzzle : 1%\n",
      "Racing : 1%\n",
      "Role Playing : 1%\n",
      "Libraries & Demo : 1%\n",
      "Auto & Vehicles : 1%\n",
      "Strategy : 1%\n",
      "House & Home : 1%\n",
      "Weather : 1%\n",
      "Events : 1%\n",
      "Adventure : 1%\n",
      "Comics : 1%\n",
      "Beauty : 1%\n",
      "Art & Design : 1%\n",
      "Parenting : 0%\n",
      "Card : 0%\n",
      "Casino : 0%\n",
      "Trivia : 0%\n",
      "Educational;Education : 0%\n",
      "Board : 0%\n",
      "Educational : 0%\n",
      "Education;Education : 0%\n",
      "Word : 0%\n",
      "Casual;Pretend Play : 0%\n",
      "Music : 0%\n",
      "Racing;Action & Adventure : 0%\n",
      "Puzzle;Brain Games : 0%\n",
      "Entertainment;Music & Video : 0%\n",
      "Casual;Brain Games : 0%\n",
      "Casual;Action & Adventure : 0%\n",
      "Arcade;Action & Adventure : 0%\n",
      "Action;Action & Adventure : 0%\n",
      "Educational;Pretend Play : 0%\n",
      "Simulation;Action & Adventure : 0%\n",
      "Parenting;Education : 0%\n",
      "Entertainment;Brain Games : 0%\n",
      "Board;Brain Games : 0%\n",
      "Parenting;Music & Video : 0%\n",
      "Educational;Brain Games : 0%\n",
      "Casual;Creativity : 0%\n",
      "Art & Design;Creativity : 0%\n",
      "Education;Pretend Play : 0%\n",
      "Role Playing;Pretend Play : 0%\n",
      "Education;Creativity : 0%\n",
      "Role Playing;Action & Adventure : 0%\n",
      "Puzzle;Action & Adventure : 0%\n",
      "Entertainment;Creativity : 0%\n",
      "Entertainment;Action & Adventure : 0%\n",
      "Educational;Creativity : 0%\n",
      "Educational;Action & Adventure : 0%\n",
      "Education;Music & Video : 0%\n",
      "Education;Brain Games : 0%\n",
      "Education;Action & Adventure : 0%\n",
      "Adventure;Action & Adventure : 0%\n",
      "Video Players & Editors;Music & Video : 0%\n",
      "Sports;Action & Adventure : 0%\n",
      "Simulation;Pretend Play : 0%\n",
      "Puzzle;Creativity : 0%\n",
      "Music;Music & Video : 0%\n",
      "Entertainment;Pretend Play : 0%\n",
      "Casual;Education : 0%\n",
      "Board;Action & Adventure : 0%\n",
      "Video Players & Editors;Creativity : 0%\n",
      "Trivia;Education : 0%\n",
      "Travel & Local;Action & Adventure : 0%\n",
      "Tools;Education : 0%\n",
      "Strategy;Education : 0%\n",
      "Strategy;Creativity : 0%\n",
      "Strategy;Action & Adventure : 0%\n",
      "Simulation;Education : 0%\n",
      "Role Playing;Brain Games : 0%\n",
      "Racing;Pretend Play : 0%\n",
      "Puzzle;Education : 0%\n",
      "Parenting;Brain Games : 0%\n",
      "Music & Audio;Music & Video : 0%\n",
      "Lifestyle;Pretend Play : 0%\n",
      "Lifestyle;Education : 0%\n",
      "Health & Fitness;Education : 0%\n",
      "Health & Fitness;Action & Adventure : 0%\n",
      "Entertainment;Education : 0%\n",
      "Communication;Creativity : 0%\n",
      "Comics;Creativity : 0%\n",
      "Casual;Music & Video : 0%\n",
      "Card;Action & Adventure : 0%\n",
      "Books & Reference;Education : 0%\n",
      "Art & Design;Pretend Play : 0%\n",
      "Art & Design;Action & Adventure : 0%\n",
      "Arcade;Pretend Play : 0%\n",
      "Adventure;Education : 0%\n"
     ]
    }
   ],
   "source": [
    "display_table(android_english_free, android_index_genre)"
   ]
  },
  {
   "cell_type": "code",
   "execution_count": 180,
   "metadata": {},
   "outputs": [
    {
     "name": "stdout",
     "output_type": "stream",
     "text": [
      "Games : 58%\n",
      "Entertainment : 8%\n",
      "Photo & Video : 5%\n",
      "Education : 4%\n",
      "Social Networking : 3%\n",
      "Shopping : 3%\n",
      "Utilities : 3%\n",
      "Sports : 2%\n",
      "Music : 2%\n",
      "Health & Fitness : 2%\n",
      "Productivity : 2%\n",
      "Lifestyle : 2%\n",
      "News : 1%\n",
      "Travel : 1%\n",
      "Finance : 1%\n",
      "Weather : 1%\n",
      "Food & Drink : 1%\n",
      "Reference : 1%\n",
      "Business : 1%\n",
      "Book : 0%\n",
      "Navigation : 0%\n",
      "Medical : 0%\n",
      "Catalogs : 0%\n"
     ]
    }
   ],
   "source": [
    "display_table(ios_english_free, ios_index_genre)"
   ]
  },
  {
   "cell_type": "code",
   "execution_count": null,
   "metadata": {},
   "outputs": [],
   "source": []
  }
 ],
 "metadata": {
  "kernelspec": {
   "display_name": "Python 3",
   "language": "python",
   "name": "python3"
  },
  "language_info": {
   "codemirror_mode": {
    "name": "ipython",
    "version": 3
   },
   "file_extension": ".py",
   "mimetype": "text/x-python",
   "name": "python",
   "nbconvert_exporter": "python",
   "pygments_lexer": "ipython3",
   "version": "3.8.2"
  }
 },
 "nbformat": 4,
 "nbformat_minor": 2
}
